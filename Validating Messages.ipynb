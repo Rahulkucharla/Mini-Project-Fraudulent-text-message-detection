{
 "cells": [
  {
   "cell_type": "code",
   "execution_count": 1,
   "id": "0dbb832e",
   "metadata": {},
   "outputs": [],
   "source": [
    "import numpy as np\n",
    "import pandas as pd\n",
    "import pickle\n",
    "df=pd.read_csv(\"spam.csv\")"
   ]
  },
  {
   "cell_type": "code",
   "execution_count": 2,
   "id": "24abe8ae",
   "metadata": {},
   "outputs": [
    {
     "data": {
      "text/html": [
       "<div>\n",
       "<style scoped>\n",
       "    .dataframe tbody tr th:only-of-type {\n",
       "        vertical-align: middle;\n",
       "    }\n",
       "\n",
       "    .dataframe tbody tr th {\n",
       "        vertical-align: top;\n",
       "    }\n",
       "\n",
       "    .dataframe thead th {\n",
       "        text-align: right;\n",
       "    }\n",
       "</style>\n",
       "<table border=\"1\" class=\"dataframe\">\n",
       "  <thead>\n",
       "    <tr style=\"text-align: right;\">\n",
       "      <th></th>\n",
       "      <th>Spam</th>\n",
       "      <th>Text</th>\n",
       "      <th>Unnamed: 2</th>\n",
       "      <th>Unnamed: 3</th>\n",
       "      <th>Unnamed: 4</th>\n",
       "    </tr>\n",
       "  </thead>\n",
       "  <tbody>\n",
       "    <tr>\n",
       "      <th>0</th>\n",
       "      <td>ham</td>\n",
       "      <td>Go until jurong point, crazy.. Available only ...</td>\n",
       "      <td>NaN</td>\n",
       "      <td>NaN</td>\n",
       "      <td>NaN</td>\n",
       "    </tr>\n",
       "    <tr>\n",
       "      <th>1</th>\n",
       "      <td>ham</td>\n",
       "      <td>Ok lar... Joking wif u oni...</td>\n",
       "      <td>NaN</td>\n",
       "      <td>NaN</td>\n",
       "      <td>NaN</td>\n",
       "    </tr>\n",
       "    <tr>\n",
       "      <th>2</th>\n",
       "      <td>spam</td>\n",
       "      <td>Free entry in 2 a wkly comp to win FA Cup fina...</td>\n",
       "      <td>NaN</td>\n",
       "      <td>NaN</td>\n",
       "      <td>NaN</td>\n",
       "    </tr>\n",
       "    <tr>\n",
       "      <th>3</th>\n",
       "      <td>ham</td>\n",
       "      <td>U dun say so early hor... U c already then say...</td>\n",
       "      <td>NaN</td>\n",
       "      <td>NaN</td>\n",
       "      <td>NaN</td>\n",
       "    </tr>\n",
       "    <tr>\n",
       "      <th>4</th>\n",
       "      <td>ham</td>\n",
       "      <td>Nah I don't think he goes to usf, he lives aro...</td>\n",
       "      <td>NaN</td>\n",
       "      <td>NaN</td>\n",
       "      <td>NaN</td>\n",
       "    </tr>\n",
       "  </tbody>\n",
       "</table>\n",
       "</div>"
      ],
      "text/plain": [
       "   Spam                                               Text Unnamed: 2  \\\n",
       "0   ham  Go until jurong point, crazy.. Available only ...        NaN   \n",
       "1   ham                      Ok lar... Joking wif u oni...        NaN   \n",
       "2  spam  Free entry in 2 a wkly comp to win FA Cup fina...        NaN   \n",
       "3   ham  U dun say so early hor... U c already then say...        NaN   \n",
       "4   ham  Nah I don't think he goes to usf, he lives aro...        NaN   \n",
       "\n",
       "  Unnamed: 3 Unnamed: 4  \n",
       "0        NaN        NaN  \n",
       "1        NaN        NaN  \n",
       "2        NaN        NaN  \n",
       "3        NaN        NaN  \n",
       "4        NaN        NaN  "
      ]
     },
     "execution_count": 2,
     "metadata": {},
     "output_type": "execute_result"
    }
   ],
   "source": [
    "df.head()"
   ]
  },
  {
   "cell_type": "code",
   "execution_count": 3,
   "id": "afdda8e0",
   "metadata": {},
   "outputs": [
    {
     "data": {
      "text/plain": [
       "(5651, 5)"
      ]
     },
     "execution_count": 3,
     "metadata": {},
     "output_type": "execute_result"
    }
   ],
   "source": [
    "df.shape"
   ]
  },
  {
   "cell_type": "code",
   "execution_count": 4,
   "id": "2550d489",
   "metadata": {},
   "outputs": [],
   "source": [
    "df.drop_duplicates(inplace=True)"
   ]
  },
  {
   "cell_type": "code",
   "execution_count": 5,
   "id": "df00d43e",
   "metadata": {},
   "outputs": [],
   "source": [
    "df.drop_duplicates(inplace=True)"
   ]
  },
  {
   "cell_type": "code",
   "execution_count": 6,
   "id": "4d609c93",
   "metadata": {},
   "outputs": [
    {
     "data": {
      "text/plain": [
       "(5245, 5)"
      ]
     },
     "execution_count": 6,
     "metadata": {},
     "output_type": "execute_result"
    }
   ],
   "source": [
    "df.shape"
   ]
  },
  {
   "cell_type": "code",
   "execution_count": 7
   "id": "d886d054",
   "metadata": {},
   "outputs": [
    {
     "data": {
      "text/plain": [
       "Index(['Spam', 'Text', 'Unnamed: 2', 'Unnamed: 3', 'Unnamed: 4'], dtype='object')"
      ]
     },
     "execution_count": 7,
     "metadata": {},
     "output_type": "execute_result"
    }
   ],
   "source": [
    "df.columns"
   ]
  },
  {
   "cell_type": "code",
   "execution_count": 8,
   "id": "2788ee31",
   "metadata": {},
   "outputs": [],
   "source": [
    "import nltk\n",
    "from nltk.corpus import stopwords"
   ]
  },
  {
   "cell_type": "code",
   "execution_count": 9,
   "id": "e9952897",
   "metadata": {},
   "outputs": [
    {
     "name": "stderr",
     "output_type": "stream",
     "text": [
      "[nltk_data] Downloading package stopwords to\n",
      "[nltk_data]     C:\\Users\\91730\\AppData\\Roaming\\nltk_data...\n",
      "[nltk_data]   Package stopwords is already up-to-date!\n"
     ]
    },
    {
     "data": {
      "text/plain": [
       "True"
      ]
     },
     "execution_count": 9,
     "metadata": {},
     "output_type": "execute_result"
    }
   ],
   "source": [
    "nltk.download('stopwords')"
   ]
  },
  {
   "cell_type": "code",
   "execution_count": 10,
   "id": "f979109e",
   "metadata": {},
   "outputs": [],
   "source": [
    "df['Unnamed: 2']=np.nan\n",
    "df['Unnamed: 3']=np.nan\n",
    "df['Unnamed: 4']=np.nan"
   ]
  },
  {
   "cell_type": "code",
   "execution_count": 11,
   "id": "32e37f56",
   "metadata": {},
   "outputs": [],
   "source": [
    "df.drop('Unnamed: 2',inplace=True,axis=1)\n",
    "df.drop('Unnamed: 3',inplace=True,axis=1)\n",
    "df.drop('Unnamed: 4',inplace=True,axis=1)"
   ]
  },
  {
   "cell_type": "code",
   "execution_count": 12,
   "id": "bf6919e0",
   "metadata": {},
   "outputs": [
    {
     "data": {
      "text/plain": [
       "(5245, 2)"
      ]
     },
     "execution_count": 12,
     "metadata": {},
     "output_type": "execute_result"
    }
   ],
   "source": [
    "df.shape"
   ]
  },
  {
   "cell_type": "code",
   "execution_count": 13,
   "id": "bfa2ab02",
   "metadata": {},
   "outputs": [
    {
     "data": {
      "text/plain": [
       "Spam    0\n",
       "Text    0\n",
       "dtype: int64"
      ]
     },
     "execution_count": 13,
     "metadata": {},
     "output_type": "execute_result"
    }
   ],
   "source": [
    "df.isnull().sum()"
   ]
  },
  {
   "cell_type": "code",
   "execution_count": 14,
   "id": "7f9d541f",
   "metadata": {},
   "outputs": [
    {
     "data": {
      "text/plain": [
       "Index(['Spam', 'Text'], dtype='object')"
      ]
     },
     "execution_count": 14,
     "metadata": {},
     "output_type": "execute_result"
    }
   ],
   "source": [
    "df.columns"
   ]
  },
  {
   "cell_type": "code",
   "execution_count": 15,
   "id": "7fd5a90c",
   "metadata": {},
   "outputs": [
    {
     "data": {
      "text/plain": [
       "<bound method NDFrame.head of       Spam                                               Text\n",
       "0      ham  Go until jurong point, crazy.. Available only ...\n",
       "1      ham                      Ok lar... Joking wif u oni...\n",
       "2     spam  Free entry in 2 a wkly comp to win FA Cup fina...\n",
       "3      ham  U dun say so early hor... U c already then say...\n",
       "4      ham  Nah I don't think he goes to usf, he lives aro...\n",
       "...    ...                                                ...\n",
       "5646  spam  Dear sir, Are u felling alone, Need friends in...\n",
       "5647  spam  Hello sir,\\nI m RUHI\\ndo you felling alone in ...\n",
       "5648  spam  DEAR APPLICANT\\nBusiness loan application has ...\n",
       "5649  spam  BCSMVL\\nDear sir, Are u felling alone, Need fr...\n",
       "5650  spam  Rs.10000 to 15 Lacs Directly In Your Bank Acco...\n",
       "\n",
       "[5245 rows x 2 columns]>"
      ]
     },
     "execution_count": 15,
     "metadata": {},
     "output_type": "execute_result"
    }
   ],
   "source": [
    "df.head"
   ]
  },
  {
   "cell_type": "code",
   "execution_count": 16,
   "id": "173b0317",
   "metadata": {},
   "outputs": [],
   "source": [
    "import string\n",
    "def analysing_message(text):\n",
    "    message1=[char for char in text if char not in string.punctuation]\n",
    "    #Here removing punctuation means removing symbols like , . / - ) {}etc..for every character in text we are storing it in a list\n",
    "    #every character will be stored in a list as follows ['h','e','l','l',' ','w','o','r','l','d']\n",
    "    message1=\"\".join(message1)\n",
    "    #now again we are making that into a sentence i.e hello world\n",
    "    message2=[word for word in message1.split() if word.lower() not in stopwords.words('English')]\n",
    "    return message2"
   ]
  },
  {
   "cell_type": "code",
   "execution_count": 17,
   "id": "0748c64c",
   "metadata": {},
   "outputs": [],
   "source": [
    "from sklearn.model_selection import train_test_split\n",
    "x_train,x_test,y_train,y_test=train_test_split(df[\"Text\"],df['Spam'],test_size=0.25,random_state=0)"
   ]
  },
  {
   "cell_type": "code",
   "execution_count": 18,
   "id": "25051ec8",
   "metadata": {},
   "outputs": [],
   "source": [
    "from sklearn.feature_extraction.text import CountVectorizer \n",
    "vectorizer=CountVectorizer(analyzer=analysing_message)\n",
    "x_train=vectorizer.fit_transform(x_train)\n",
    "x_test = vectorizer.transform(x_test)"
   ]
  },
  {
   "cell_type": "code",
   "execution_count": 19,
   "id": "1790577d",
   "metadata": {},
   "outputs": [
    {
     "data": {
      "text/plain": [
       "MultinomialNB()"
      ]
     },
     "execution_count": 19,
     "metadata": {},
     "output_type": "execute_result"
    }
   ],
   "source": [
    "from sklearn.naive_bayes import MultinomialNB\n",
    "model=MultinomialNB()\n",
    "model.fit(x_train,y_train)"
   ]
  },
  {
   "cell_type": "code",
   "execution_count": 20,
   "id": "94e32708",
   "metadata": {},
   "outputs": [
    {
     "name": "stdout",
     "output_type": "stream",
     "text": [
      "  (0, 1052)\t1\n",
      "  (0, 1312)\t1\n",
      "  (0, 9242)\t1\n",
      "  (0, 7848)\t1\n",
      "  (0, 7396)\t1\n",
      "  (0, 6322)\t1\n",
      "  (0, 4984)\t1\n",
      "  (0, 2626)\t1\n",
      "  (0, 5108)\t1\n",
      "  (0, 4689)\t1\n",
      "  (0, 4405)\t1\n",
      "  (0, 3552)\t1\n",
      "  (0, 9348)\t1\n",
      "  (0, 9382)\t1\n",
      "  (0, 2568)\t1\n",
      "  (1, 1450)\t1\n",
      "  (1, 5568)\t1\n",
      "  (1, 5150)\t1\n",
      "  (1, 6529)\t1\n",
      "  (1, 9018)\t1\n",
      "  (2, 4689)\t1\n",
      "  (2, 1448)\t1\n",
      "  (2, 3588)\t1\n",
      "  (2, 5514)\t1\n",
      "  (2, 3675)\t1\n",
      "  :\t:\n",
      "  (3927, 9390)\t1\n",
      "  (3927, 9170)\t1\n",
      "  (3927, 4806)\t1\n",
      "  (3927, 8706)\t1\n",
      "  (3928, 6529)\t1\n",
      "  (3929, 7976)\t1\n",
      "  (3929, 2298)\t1\n",
      "  (3929, 6508)\t1\n",
      "  (3929, 1685)\t1\n",
      "  (3930, 6690)\t1\n",
      "  (3930, 3535)\t1\n",
      "  (3930, 4461)\t1\n",
      "  (3930, 1624)\t1\n",
      "  (3930, 2100)\t1\n",
      "  (3930, 8549)\t1\n",
      "  (3930, 5982)\t1\n",
      "  (3930, 2510)\t1\n",
      "  (3930, 1102)\t1\n",
      "  (3930, 6385)\t1\n",
      "  (3930, 4773)\t1\n",
      "  (3931, 5899)\t1\n",
      "  (3931, 6541)\t1\n",
      "  (3931, 6957)\t1\n",
      "  (3931, 2223)\t1\n",
      "  (3932, 2794)\t1\n",
      "5645    spam\n",
      "3825     ham\n",
      "1020     ham\n",
      "1274     ham\n",
      "1697     ham\n",
      "        ... \n",
      "5307     ham\n",
      "3455     ham\n",
      "1708     ham\n",
      "2730     ham\n",
      "2871     ham\n",
      "Name: Spam, Length: 3933, dtype: object\n"
     ]
    }
   ],
   "source": [
    "print(x_train)\n",
    "print(y_train)\n",
    "a=model.predict(x_test)"
   ]
  },
  {
   "cell_type": "code",
   "execution_count": 21,
   "id": "886ce5de",
   "metadata": {},
   "outputs": [],
   "source": [
    "b=model.predict(x_train)"
   ]
  },
  {
   "cell_type": "code",
   "execution_count": 22,
   "id": "5a2442d8",
   "metadata": {},
   "outputs": [
    {
     "name": "stdout",
     "output_type": "stream",
     "text": [
      "[[3380   10]\n",
      " [   8  535]]\n"
     ]
    }
   ],
   "source": [
    "from sklearn.metrics import confusion_matrix,accuracy_score\n",
    "print(confusion_matrix(b,y_train))"
   ]
  },
  {
   "cell_type": "code",
   "execution_count": 23,
   "id": "3be97188",
   "metadata": {},
   "outputs": [
    {
     "name": "stdout",
     "output_type": "stream",
     "text": [
      "[[1121   22]\n",
      " [   7  162]]\n"
     ]
    }
   ],
   "source": [
    "print(confusion_matrix(a,y_test))"
   ]
  },
  {
   "cell_type": "code",
   "execution_count": 24,
   "id": "d5e591e0",
   "metadata": {
    "scrolled": true
   },
   "outputs": [
    {
     "name": "stdout",
     "output_type": "stream",
     "text": [
      "0.9954233409610984\n"
     ]
    }
   ],
   "source": [
    "print(accuracy_score(b,y_train))"
   ]
  },
  {
   "cell_type": "code",
   "execution_count": 25,
   "id": "eb551dcf",
   "metadata": {},
   "outputs": [
    {
     "name": "stdout",
     "output_type": "stream",
     "text": [
      "0.9778963414634146\n"
     ]
    }
   ],
   "source": [
    "print(accuracy_score(a,y_test))"
   ]
  },
  {
   "cell_type": "code",
   "execution_count": 26,
   "id": "75af7f6b",
   "metadata": {},
   "outputs": [
    {
     "data": {
      "text/plain": [
       "<1x9805 sparse matrix of type '<class 'numpy.int64'>'\n",
       "\twith 11 stored elements in Compressed Sparse Row format>"
      ]
     },
     "execution_count": 26,
     "metadata": {},
     "output_type": "execute_result"
    }
   ],
   "source": [
    "example = \"Dear I am a HR . We are hiring for part/full time job. Now you can earn Rs.9800 every day. Apply now wa.me/917628833152 MissionCompoundRWA\"\n",
    "\n",
    "example_tf = vectorizer.transform([example])\n",
    "example_tf"
   ]
  },
  {
   "cell_type": "code",
   "execution_count": 27,
   "id": "d592fa33",
   "metadata": {},
   "outputs": [
    {
     "data": {
      "text/plain": [
       "(1, 9805)"
      ]
     },
     "execution_count": 27,
     "metadata": {},
     "output_type": "execute_result"
    }
   ],
   "source": [
    "example_tf.shape"
   ]
  },
  {
   "cell_type": "code",
   "execution_count": 28,
   "id": "2eb6a769",
   "metadata": {},
   "outputs": [
    {
     "data": {
      "text/plain": [
       "array(['spam'], dtype='<U4')"
      ]
     },
     "execution_count": 28,
     "metadata": {},
     "output_type": "execute_result"
    }
   ],
   "source": [
    "model.predict(example_tf)"
   ]
  },
  {
   "cell_type": "code",
   "execution_count": 29,
   "id": "d1ba4da9",
   "metadata": {},
   "outputs": [],
   "source": [
    "from sklearn.ensemble import RandomForestClassifier"
   ]
  },
  {
   "cell_type": "code",
   "execution_count": 30,
   "id": "490f5f81",
   "metadata": {},
   "outputs": [],
   "source": [
    "random_model=RandomForestClassifier()"
   ]
  },
  {
   "cell_type": "code",
   "execution_count": 31,
   "id": "f54c1d0a",
   "metadata": {},
   "outputs": [
    {
     "data": {
      "text/plain": [
       "RandomForestClassifier()"
      ]
     },
     "execution_count": 31,
     "metadata": {},
     "output_type": "execute_result"
    }
   ],
   "source": [
    "random_model.fit(x_train,y_train)"
   ]
  },
  {
   "cell_type": "code",
   "execution_count": 32,
   "id": "6a6a2cc7",
   "metadata": {},
   "outputs": [],
   "source": [
    "a=random_model.predict(x_train)\n",
    "b=random_model.predict(x_test)"
   ]
  },
  {
   "cell_type": "code",
   "execution_count": 33,
   "id": "495b8eab",
   "metadata": {},
   "outputs": [
    {
     "data": {
      "text/plain": [
       "1.0"
      ]
     },
     "execution_count": 33,
     "metadata": {},
     "output_type": "execute_result"
    }
   ],
   "source": [
    "from sklearn.metrics import confusion_matrix,accuracy_score\n",
    "accuracy_score(a,y_train)"
   ]
  },
  {
   "cell_type": "code",
   "execution_count": 34,
   "id": "450ebd81",
   "metadata": {},
   "outputs": [
    {
     "data": {
      "text/plain": [
       "0.961890243902439"
      ]
     },
     "execution_count": 34,
     "metadata": {},
     "output_type": "execute_result"
    }
   ],
   "source": [
    "accuracy_score(b,y_test)"
   ]
  },
  {
   "cell_type": "code",
   "execution_count": 35,
   "id": "01ae4d58",
   "metadata": {},
   "outputs": [],
   "source": [
    "from sklearn.tree import DecisionTreeClassifier"
   ]
  },
  {
   "cell_type": "code",
   "execution_count": 36,
   "id": "a4523216",
   "metadata": {},
   "outputs": [
    {
     "data": {
      "text/plain": [
       "DecisionTreeClassifier()"
      ]
     },
     "execution_count": 36,
     "metadata": {},
     "output_type": "execute_result"
    }
   ],
   "source": [
    "model_tree=DecisionTreeClassifier()\n",
    "model_tree.fit(x_train,y_train)"
   ]
  },
  {
   "cell_type": "code",
   "execution_count": 37,
   "id": "3d2b09a6",
   "metadata": {},
   "outputs": [],
   "source": [
    "a=model_tree.predict(x_train)\n",
    "b=model_tree.predict(x_test)"
   ]
  },
  {
   "cell_type": "code",
   "execution_count": 38,
   "id": "d5ad29bc",
   "metadata": {},
   "outputs": [
    {
     "data": {
      "text/plain": [
       "1.0"
      ]
     },
     "execution_count": 38,
     "metadata": {},
     "output_type": "execute_result"
    }
   ],
   "source": [
    "accuracy_score(a,y_train)"
   ]
  },
  {
   "cell_type": "code",
   "execution_count": 39,
   "id": "4d3bff7e",
   "metadata": {},
   "outputs": [
    {
     "data": {
      "text/plain": [
       "0.9634146341463414"
      ]
     },
     "execution_count": 39,
     "metadata": {},
     "output_type": "execute_result"
    }
   ],
   "source": [
    "accuracy_score(b,y_test)"
   ]
  },
  {
   "cell_type": "code",
   "execution_count": 40,
   "id": "dee85bda",
   "metadata": {},
   "outputs": [
    {
     "data": {
      "text/plain": [
       "KNeighborsClassifier(n_neighbors=2)"
      ]
     },
     "execution_count": 40,
     "metadata": {},
     "output_type": "execute_result"
    }
   ],
   "source": [
    "from sklearn.neighbors import KNeighborsClassifier\n",
    "knn=KNeighborsClassifier(n_neighbors=2)\n",
    "knn.fit(x_train,y_train)"
   ]
  },
  {
   "cell_type": "code",
   "execution_count": 41,
   "id": "7b7087f1",
   "metadata": {},
   "outputs": [],
   "source": [
    "a=knn.predict(x_train)\n",
    "b=knn.predict(x_test)"
   ]
  },
  {
   "cell_type": "code",
   "execution_count": 42,
   "id": "b24d338e",
   "metadata": {},
   "outputs": [
    {
     "data": {
      "text/plain": [
       "0.927536231884058"
      ]
     },
     "execution_count": 42,
     "metadata": {},
     "output_type": "execute_result"
    }
   ],
   "source": [
    "accuracy_score(a,y_train)"
   ]
  },
  {
   "cell_type": "code",
   "execution_count": 43,
   "id": "31431e7a",
   "metadata": {},
   "outputs": [
    {
     "data": {
      "text/plain": [
       "0.9001524390243902"
      ]
     },
     "execution_count": 43,
     "metadata": {},
     "output_type": "execute_result"
    }
   ],
   "source": [
    "accuracy_score(b,y_test)"
   ]
  },
  {
   "cell_type": "code",
   "execution_count": 44,
   "id": "722d3f3c",
   "metadata": {},
   "outputs": [
    {
     "data": {
      "text/plain": [
       "array(['ham'], dtype=object)"
      ]
     },
     "execution_count": 44,
     "metadata": {},
     "output_type": "execute_result"
    }
   ],
   "source": [
    "knn.predict(example_tf)"
   ]
  },
  {
   "cell_type": "code",
   "execution_count": 45,
   "id": "391bf2af",
   "metadata": {},
   "outputs": [
    {
     "data": {
      "text/plain": [
       "array(['spam'], dtype=object)"
      ]
     },
     "execution_count": 45,
     "metadata": {},
     "output_type": "execute_result"
    }
   ],
   "source": [
    "model_tree.predict(example_tf)"
   ]
  },
  {
   "cell_type": "code",
   "execution_count": 46,
   "id": "865091c3",
   "metadata": {},
   "outputs": [
    {
     "data": {
      "text/plain": [
       "array(['spam'], dtype=object)"
      ]
     },
     "execution_count": 46,
     "metadata": {},
     "output_type": "execute_result"
    }
   ],
   "source": [
    "random_model.predict(example_tf)"
   ]
  },
  {
   "cell_type": "code",
   "execution_count": 47,
   "id": "081727db",
   "metadata": {},
   "outputs": [],
   "source": [
    "pickle.dump(model,open('spam.pkl','wb'))"
   ]
  },
  {
   "cell_type": "code",
   "execution_count": 48,
   "id": "45c85213",
   "metadata": {},
   "outputs": [
    {
     "data": {
      "text/plain": [
       "array(['spam'], dtype='<U4')"
      ]
     },
     "execution_count": 48,
     "metadata": {},
     "output_type": "execute_result"
    }
   ],
   "source": [
    "file=open('spam.pkl','rb')\n",
    "pkmodel=pickle.load(file)\n",
    "pkmodel.predict(example_tf)"
   ]
  },
  {
   "cell_type": "code",
   "execution_count": 49,
   "id": "4b373ea2",
   "metadata": {},
   "outputs": [],
   "source": [
    "pickle.dump(vectorizer.vocabulary_, open(\"vect.pkl\", \"wb\"))"
   ]
  },
  {
   "cell_type": "code",
   "execution_count": 50,
   "id": "cd53e217",
   "metadata": {},
   "outputs": [
    {
     "name": "stdout",
     "output_type": "stream",
     "text": [
      "  (0, 576)\t1\n",
      "  (0, 1052)\t1\n",
      "  (0, 1523)\t1\n",
      "  (0, 2638)\t1\n",
      "  (0, 4689)\t1\n",
      "  (0, 4983)\t1\n",
      "  (0, 5108)\t1\n",
      "  (0, 5972)\t1\n",
      "  (0, 6321)\t1\n",
      "  (0, 7388)\t1\n",
      "  (0, 8991)\t1\n"
     ]
    }
   ],
   "source": [
    "print(example_tf)"
   ]
  },
  {
   "cell_type": "code",
   "execution_count": null,
   "id": "09164a9b",
   "metadata": {},
   "outputs": [],
   "source": []
  }
 ],
 "metadata": {
  "interpreter": {
   "hash": "d8da7af79a03be68c3947499e86be8e8f5caf65c7c60ec14e7aa4309128a6130"
  },
  "kernelspec": {
   "display_name": "Python 3",
   "language": "python",
   "name": "python3"
  },
  "language_info": {
   "codemirror_mode": {
    "name": "ipython",
    "version": 3
   },
   "file_extension": ".py",
   "mimetype": "text/x-python",
   "name": "python",
   "nbconvert_exporter": "python",
   "pygments_lexer": "ipython3",
   "version": "3.8.8"
  }
 },
 "nbformat": 4,
 "nbformat_minor": 5
}
